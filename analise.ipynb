{
 "cells": [
  {
   "cell_type": "code",
   "execution_count": 2,
   "metadata": {},
   "outputs": [],
   "source": [
    "import yfinance as yf \n",
    "import matplotlib.pyplot as plt\n",
    "import pandas as pd\n",
    "import sqlite3"
   ]
  },
  {
   "cell_type": "code",
   "execution_count": 3,
   "metadata": {},
   "outputs": [
    {
     "data": {
      "text/html": [
       "<div>\n",
       "<style scoped>\n",
       "    .dataframe tbody tr th:only-of-type {\n",
       "        vertical-align: middle;\n",
       "    }\n",
       "\n",
       "    .dataframe tbody tr th {\n",
       "        vertical-align: top;\n",
       "    }\n",
       "\n",
       "    .dataframe thead th {\n",
       "        text-align: right;\n",
       "    }\n",
       "</style>\n",
       "<table border=\"1\" class=\"dataframe\">\n",
       "  <thead>\n",
       "    <tr style=\"text-align: right;\">\n",
       "      <th></th>\n",
       "      <th>Ambev</th>\n",
       "      <th>b3</th>\n",
       "      <th>Bradesco</th>\n",
       "      <th>Sabesp</th>\n",
       "      <th>Carrefour</th>\n",
       "      <th>CCR</th>\n",
       "      <th>Braskem</th>\n",
       "      <th>Cielo</th>\n",
       "      <th>Cogna</th>\n",
       "      <th>Eletrobras</th>\n",
       "      <th>Engie</th>\n",
       "      <th>Gol</th>\n",
       "      <th>Hapvida</th>\n",
       "      <th>Iguatemi</th>\n",
       "      <th>JBS</th>\n",
       "      <th>Localiza</th>\n",
       "      <th>Locaweb</th>\n",
       "      <th>Minerva</th>\n",
       "      <th>Petrobras</th>\n",
       "      <th>Petz</th>\n",
       "    </tr>\n",
       "  </thead>\n",
       "  <tbody>\n",
       "  </tbody>\n",
       "</table>\n",
       "</div>"
      ],
      "text/plain": [
       "Empty DataFrame\n",
       "Columns: [Ambev, b3, Bradesco, Sabesp, Carrefour, CCR, Braskem, Cielo, Cogna, Eletrobras, Engie, Gol, Hapvida, Iguatemi, JBS, Localiza, Locaweb, Minerva, Petrobras, Petz]\n",
       "Index: []"
      ]
     },
     "execution_count": 3,
     "metadata": {},
     "output_type": "execute_result"
    }
   ],
   "source": [
    "# Ações \n",
    "acoes = {\n",
    "    'Ambev' : 'ABEV3.SA', 'b3' : 'B3SA3.SA',\n",
    "    'Bradesco' : 'BBDC3.SA', 'Sabesp' : 'SBSP3.SA',\n",
    "    'Carrefour' : 'CRFB3.SA', 'CCR' : 'CCRO3.SA',\n",
    "    'Braskem' : 'BRKM5.SA', 'Cielo': 'CIEL3.SA', 'Cogna' : 'COGN3.SA', \n",
    "    'Eletrobras': 'ELET6.SA', 'Engie' : 'EGIE3.SA', 'Gol': 'GOLL4.SA', \n",
    "    'Hapvida': 'HAPV3.SA', 'Iguatemi' : 'IGTI11.SA', 'JBS' : 'JBSS3.SA',\n",
    "    'Localiza': 'RENT3.SA', 'Locaweb' : 'LWSA3.SA', 'Minerva': 'BEEF3.SA',\n",
    "    'Petrobras' : 'PETR4.SA', 'Petz' : 'PETZ3.SA'} \n",
    "\n",
    "df = pd.DataFrame()\n",
    "for acao in acoes:\n",
    "    df[acao] = acoes[acao]\n",
    "df.head()\n",
    "\n",
    "for empresa, acao in acoes.items():\n",
    "    ticker = yf.Ticker(acao)\n",
    "    data = ticker.history(period='1y')\n",
    "    plt.plot(data['Close'], label=empresa)\n",
    "\n",
    "ticker = yf.Ticker('ABEV3.SA')\n",
    "data = ticker.history(period='1y')\n",
    "plt.figure()\n",
    "plt.plot(data['Close'], label='ABEV3.SA')\n",
    "plt.ylabel('Valor (R\\$)')\n",
    "plt.title('Cotações de ações na bolsa de valores')\n",
    "plt.xlabel('Data')\n",
    "plt.legend()\n",
    "plt.show()"
   ]
  }
 ],
 "metadata": {
  "kernelspec": {
   "display_name": "Python 3",
   "language": "python",
   "name": "python3"
  },
  "language_info": {
   "codemirror_mode": {
    "name": "ipython",
    "version": 3
   },
   "file_extension": ".py",
   "mimetype": "text/x-python",
   "name": "python",
   "nbconvert_exporter": "python",
   "pygments_lexer": "ipython3",
   "version": "3.9.10"
  },
  "orig_nbformat": 4
 },
 "nbformat": 4,
 "nbformat_minor": 2
}
