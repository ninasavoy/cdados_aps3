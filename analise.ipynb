{
 "cells": [
  {
   "cell_type": "code",
   "execution_count": null,
   "metadata": {},
   "outputs": [],
   "source": [
    "import yfinance as yf \n",
    "import matplotlib.pyplot as plt\n",
    "import pandas as pd\n",
    "\n"
   ]
  },
  {
   "cell_type": "code",
   "execution_count": 1,
   "metadata": {},
   "outputs": [
    {
     "ename": "NameError",
     "evalue": "name 'yf' is not defined",
     "output_type": "error",
     "traceback": [
      "\u001b[1;31m---------------------------------------------------------------------------\u001b[0m",
      "\u001b[1;31mNameError\u001b[0m                                 Traceback (most recent call last)",
      "\u001b[1;32mc:\\Users\\Usuario\\Desktop\\cdados_aps3\\cdados_aps3\\analise.ipynb Cell 2\u001b[0m line \u001b[0;36m1\n\u001b[0;32m      <a href='vscode-notebook-cell:/c%3A/Users/Usuario/Desktop/cdados_aps3/cdados_aps3/analise.ipynb#W1sZmlsZQ%3D%3D?line=1'>2</a>\u001b[0m acoes \u001b[39m=\u001b[39m {\n\u001b[0;32m      <a href='vscode-notebook-cell:/c%3A/Users/Usuario/Desktop/cdados_aps3/cdados_aps3/analise.ipynb#W1sZmlsZQ%3D%3D?line=2'>3</a>\u001b[0m     \u001b[39m'\u001b[39m\u001b[39mAmbev\u001b[39m\u001b[39m'\u001b[39m : \u001b[39m'\u001b[39m\u001b[39mABEV3.SA\u001b[39m\u001b[39m'\u001b[39m, \u001b[39m'\u001b[39m\u001b[39mb3\u001b[39m\u001b[39m'\u001b[39m : \u001b[39m'\u001b[39m\u001b[39mB3SA3.SA\u001b[39m\u001b[39m'\u001b[39m,\n\u001b[0;32m      <a href='vscode-notebook-cell:/c%3A/Users/Usuario/Desktop/cdados_aps3/cdados_aps3/analise.ipynb#W1sZmlsZQ%3D%3D?line=3'>4</a>\u001b[0m     \u001b[39m'\u001b[39m\u001b[39mBradesco\u001b[39m\u001b[39m'\u001b[39m : \u001b[39m'\u001b[39m\u001b[39mBBDC3.SA\u001b[39m\u001b[39m'\u001b[39m, \u001b[39m'\u001b[39m\u001b[39mSabesp\u001b[39m\u001b[39m'\u001b[39m : \u001b[39m'\u001b[39m\u001b[39mSBSP3.SA\u001b[39m\u001b[39m'\u001b[39m,\n\u001b[1;32m   (...)\u001b[0m\n\u001b[0;32m      <a href='vscode-notebook-cell:/c%3A/Users/Usuario/Desktop/cdados_aps3/cdados_aps3/analise.ipynb#W1sZmlsZQ%3D%3D?line=8'>9</a>\u001b[0m     \u001b[39m'\u001b[39m\u001b[39mLocaliza\u001b[39m\u001b[39m'\u001b[39m: \u001b[39m'\u001b[39m\u001b[39mRENT3.SA\u001b[39m\u001b[39m'\u001b[39m, \u001b[39m'\u001b[39m\u001b[39mLocaweb\u001b[39m\u001b[39m'\u001b[39m : \u001b[39m'\u001b[39m\u001b[39mLWSA3.SA\u001b[39m\u001b[39m'\u001b[39m, \u001b[39m'\u001b[39m\u001b[39mMinerva\u001b[39m\u001b[39m'\u001b[39m: \u001b[39m'\u001b[39m\u001b[39mBEEF3.SA\u001b[39m\u001b[39m'\u001b[39m,\n\u001b[0;32m     <a href='vscode-notebook-cell:/c%3A/Users/Usuario/Desktop/cdados_aps3/cdados_aps3/analise.ipynb#W1sZmlsZQ%3D%3D?line=9'>10</a>\u001b[0m     \u001b[39m'\u001b[39m\u001b[39mPetrobras\u001b[39m\u001b[39m'\u001b[39m : \u001b[39m'\u001b[39m\u001b[39mPETR4.SA\u001b[39m\u001b[39m'\u001b[39m, \u001b[39m'\u001b[39m\u001b[39mPetz\u001b[39m\u001b[39m'\u001b[39m : \u001b[39m'\u001b[39m\u001b[39mPETZ3.SA\u001b[39m\u001b[39m'\u001b[39m} \n\u001b[0;32m     <a href='vscode-notebook-cell:/c%3A/Users/Usuario/Desktop/cdados_aps3/cdados_aps3/analise.ipynb#W1sZmlsZQ%3D%3D?line=13'>14</a>\u001b[0m \u001b[39mfor\u001b[39;00m empresa, acao \u001b[39min\u001b[39;00m acoes\u001b[39m.\u001b[39mitems():\n\u001b[1;32m---> <a href='vscode-notebook-cell:/c%3A/Users/Usuario/Desktop/cdados_aps3/cdados_aps3/analise.ipynb#W1sZmlsZQ%3D%3D?line=14'>15</a>\u001b[0m     ticker \u001b[39m=\u001b[39m yf\u001b[39m.\u001b[39mTicker(acao)\n\u001b[0;32m     <a href='vscode-notebook-cell:/c%3A/Users/Usuario/Desktop/cdados_aps3/cdados_aps3/analise.ipynb#W1sZmlsZQ%3D%3D?line=15'>16</a>\u001b[0m     data \u001b[39m=\u001b[39m ticker\u001b[39m.\u001b[39mhistory(period\u001b[39m=\u001b[39m\u001b[39m'\u001b[39m\u001b[39m1y\u001b[39m\u001b[39m'\u001b[39m)\n\u001b[0;32m     <a href='vscode-notebook-cell:/c%3A/Users/Usuario/Desktop/cdados_aps3/cdados_aps3/analise.ipynb#W1sZmlsZQ%3D%3D?line=16'>17</a>\u001b[0m     plt\u001b[39m.\u001b[39mplot(data[\u001b[39m'\u001b[39m\u001b[39mClose\u001b[39m\u001b[39m'\u001b[39m], label\u001b[39m=\u001b[39mempresa)\n",
      "\u001b[1;31mNameError\u001b[0m: name 'yf' is not defined"
     ]
    }
   ],
   "source": [
    "# Ações \n",
    "acoes = {\n",
    "    'Ambev' : 'ABEV3.SA', 'b3' : 'B3SA3.SA',\n",
    "    'Bradesco' : 'BBDC3.SA', 'Sabesp' : 'SBSP3.SA',\n",
    "    'Carrefour' : 'CRFB3.SA', 'CCR' : 'CCRO3.SA',\n",
    "    'Braskem' : 'BRKM5.SA', 'Cielo': 'CIEL3.SA', 'Cogna' : 'COGN3.SA', \n",
    "    'Eletrobras': 'ELET6.SA', 'Engie' : 'EGIE3.SA', 'Gol': 'GOLL4.SA', \n",
    "    'Hapvida': 'HAPV3.SA', 'Iguatemi' : 'IGTI11.SA', 'JBS' : 'JBSS3.SA',\n",
    "    'Localiza': 'RENT3.SA', 'Locaweb' : 'LWSA3.SA', 'Minerva': 'BEEF3.SA',\n",
    "    'Petrobras' : 'PETR4.SA', 'Petz' : 'PETZ3.SA'} \n",
    "\n",
    "\n",
    "\n",
    "for empresa, acao in acoes.items():\n",
    "    ticker = yf.Ticker(acao)\n",
    "    data = ticker.history(period='1y')\n",
    "    plt.plot(data['Close'], label=empresa)\n",
    "\n",
    "plt.figure()\n",
    "plt.ylabel('Valor (R\\$)')\n",
    "plt.title('Cotações de ações na bolsa de valores')\n",
    "plt.xlabel('Data')\n",
    "plt.legend()\n",
    "plt.show()"
   ]
  }
 ],
 "metadata": {
  "kernelspec": {
   "display_name": "Python 3",
   "language": "python",
   "name": "python3"
  },
  "language_info": {
   "codemirror_mode": {
    "name": "ipython",
    "version": 3
   },
   "file_extension": ".py",
   "mimetype": "text/x-python",
   "name": "python",
   "nbconvert_exporter": "python",
   "pygments_lexer": "ipython3",
   "version": "3.11.4"
  },
  "orig_nbformat": 4
 },
 "nbformat": 4,
 "nbformat_minor": 2
}
